{
 "cells": [
  {
   "cell_type": "code",
   "execution_count": 4,
   "metadata": {},
   "outputs": [],
   "source": [
    "import taglib\n",
    "import mutagen\n",
    "from pathlib import Path"
   ]
  },
  {
   "cell_type": "code",
   "execution_count": 16,
   "metadata": {},
   "outputs": [
    {
     "name": "stdout",
     "output_type": "stream",
     "text": [
      "{'ARTIST': ['SM229 - Ambient Analog House'], 'TITLE': ['Sample  Magic']}\n"
     ]
    }
   ],
   "source": [
    "pathData = Path(\"../../../data\")\n",
    "files = [\n",
    "    \"aah_chord_loop_contact_120_Cmin.wav\",\n",
    "    \"aah_chord_loop_elektron_120_Gmin.wav\",\n",
    "    \"Ambience Berlina 6.wav\",\n",
    "    \"Instr_34_Smp_00.wav\",\n",
    "    \"Modular[122] F#m Miko 1.wav\"\n",
    "]\n",
    "\n",
    "with taglib.File(Path(pathData, files[1]), save_on_exit=False) as song:\n",
    "    print(song.tags)"
   ]
  },
  {
   "cell_type": "code",
   "execution_count": null,
   "metadata": {},
   "outputs": [],
   "source": [
    "a = mutagen.File(Path(pathData, files[0]))"
   ]
  },
  {
   "cell_type": "code",
   "execution_count": null,
   "metadata": {},
   "outputs": [],
   "source": []
  }
 ],
 "metadata": {
  "kernelspec": {
   "display_name": ".venv",
   "language": "python",
   "name": "python3"
  },
  "language_info": {
   "codemirror_mode": {
    "name": "ipython",
    "version": 3
   },
   "file_extension": ".py",
   "mimetype": "text/x-python",
   "name": "python",
   "nbconvert_exporter": "python",
   "pygments_lexer": "ipython3",
   "version": "3.11.5"
  },
  "orig_nbformat": 4
 },
 "nbformat": 4,
 "nbformat_minor": 2
}
